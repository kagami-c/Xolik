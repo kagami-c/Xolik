{
 "cells": [
  {
   "cell_type": "markdown",
   "metadata": {},
   "source": [
    "# Cross Comparison of Multiple Search Results\n",
    "\n",
    "This notebook provides the functionality of comparing identification results from different search engines,\n",
    "and showing the new discoveries produced by Xolik."
   ]
  },
  {
   "cell_type": "markdown",
   "metadata": {},
   "source": [
    "## Import libraries and define importing functions"
   ]
  },
  {
   "cell_type": "code",
   "execution_count": 27,
   "metadata": {
    "collapsed": true
   },
   "outputs": [],
   "source": [
    "import pandas as pd\n",
    "from IPython.display import display\n",
    "import matplotlib.pyplot as plt\n",
    "from matplotlib_venn import venn3_unweighted\n",
    "%matplotlib inline\n",
    "\n",
    "\n",
    "def read_plink_result(filename):\n",
    "\n",
    "    data = pd.read_csv(filename, sep='\\t', skiprows=[0])\n",
    "    first_half = data[data.index % 2 == 0]\n",
    "    first_half.columns = ['#', 'Spectrum', 'PeptideNum', 'UniquePepNum', 'Samples', 'Score', 'Condition', \n",
    "                          'S', 'SS', 'SSS']\n",
    "    first_half = first_half.reset_index()\n",
    "    first_half = first_half.drop(['index', 'S', 'SS', 'SSS'], axis=1)\n",
    "    second_half = data[data.index % 2 == 1]\n",
    "    second_half = second_half.reset_index()\n",
    "    second_half = second_half.drop(['index', 'Score'], axis=1)\n",
    "    data = pd.concat([first_half, second_half], axis=1)\n",
    "\n",
    "    data['PeptideNum'] = data['PeptideNum'].astype(int)\n",
    "    if len(data[data['PeptideNum'] > 1]) > 0:\n",
    "        raise Exception('Existing multiple match for one spectrum')\n",
    "    data = data.drop(['PeptideNum', 'UniquePepNum', 'Samples', 'Condition', '#', '*', '#,Spec', 'SampleID'], axis=1)\n",
    "    \n",
    "    def extract_scan_num(spec_name):\n",
    "        words = spec_name.split('.')\n",
    "        return int(words[1])\n",
    "\n",
    "    data['ScanNum'] = data['Spectrum'].apply(extract_scan_num)\n",
    "\n",
    "    def split_link(pname):\n",
    "        pname = pname.split(':')[0]\n",
    "        words = pname.split('-')\n",
    "        fwords = words[0].split('(')\n",
    "        alpha = fwords[0]\n",
    "        alpha_site = int(fwords[1][:-1])\n",
    "        swords = words[1].split('(')\n",
    "        beta = swords[0]\n",
    "        beta_site = int(swords[1][:-1])\n",
    "        return alpha, alpha_site, beta, beta_site\n",
    "\n",
    "    def get_alpha(pname):\n",
    "        (alpha, alpha_site, beta, beta_site) = split_link(pname)\n",
    "        return alpha\n",
    "\n",
    "    def get_alpha_site(pname):\n",
    "        (alpha, alpha_site, beta, beta_site) = split_link(pname)\n",
    "        return alpha_site\n",
    "\n",
    "    def get_beta(pname):\n",
    "        (alpha, alpha_site, beta, beta_site) = split_link(pname)\n",
    "        return beta\n",
    "\n",
    "    def get_beta_site(pname):\n",
    "        (alpha, alpha_site, beta, beta_site) = split_link(pname)\n",
    "        return beta_site\n",
    "\n",
    "    data['Peptide#1'] = data['Peptide'].apply(get_alpha)\n",
    "    data['LinkSite#1'] = data['Peptide'].apply(get_alpha_site)\n",
    "    data['Peptide#2'] = data['Peptide'].apply(get_beta)\n",
    "    data['LinkSite#2'] = data['Peptide'].apply(get_beta_site)\n",
    "    data['Protein#1'] = data['Proteins'].apply(get_alpha)\n",
    "    data['Protein#2'] = data['Proteins'].apply(get_beta)\n",
    "\n",
    "    data = data.drop(['Mod_Sites', 'Calc_M', 'Delta_M', 'ppm', 'Peptide', 'Proteins'], axis=1)\n",
    "    \n",
    "    return data\n",
    "\n",
    "\n",
    "def split_kojak_peptide(row):\n",
    "    record = row['Peptide']\n",
    "    middle = record.split('.')[1]\n",
    "    words = middle.split('--')\n",
    "    pep1 = words[0][:-1]\n",
    "    pep2 = words[1][:-1]\n",
    "    pep1_words = pep1.split('(')\n",
    "    seq1 = pep1_words[0]\n",
    "    site1 = int(pep1_words[1])\n",
    "    pep2_words = pep2.split('(')\n",
    "    seq2 = pep2_words[0]\n",
    "    site2 = int(pep2_words[1])\n",
    "    row['Peptide#1'] = seq1\n",
    "    row['LinkSite#1'] = site1\n",
    "    row['Peptide#2'] = seq2\n",
    "    row['LinkSite#2'] = site2\n",
    "    return row"
   ]
  },
  {
   "cell_type": "markdown",
   "metadata": {},
   "source": [
    "## Load data and build statistic data structure"
   ]
  },
  {
   "cell_type": "code",
   "execution_count": 28,
   "metadata": {
    "collapsed": false
   },
   "outputs": [],
   "source": [
    "path_prefix = r'../../Exp2/26Syeast/'\n",
    "frames = []\n",
    "\n",
    "for fileindex in ['004', '005', '006', '007']:\n",
    "    plink = read_plink_result(\n",
    "        path_prefix + r'pLink/file{}.dir/2.report/sample1/aleitner_inter_combine.spectra.xls'.format(fileindex))\n",
    "    plink_intra = plink[plink['Protein#1'] == plink['Protein#2']]\n",
    "    plink_inter = plink[plink['Protein#1'] != plink['Protein#2']]\n",
    "    \n",
    "    kojak_intra = pd.read_csv(path_prefix + r'Kojak/aleitner_M1012_{}.perc.intra.txt.controlled.csv'.format(fileindex))\n",
    "    kojak_inter = pd.read_csv(path_prefix + r'Kojak/aleitner_M1012_{}.perc.inter.txt.controlled.csv'.format(fileindex))\n",
    "    kojak_intra = kojak_intra[kojak_intra['qValue'] <= 0.05]\n",
    "    kojak_inter = kojak_inter[kojak_inter['qValue'] <= 0.05]\n",
    "    kojak_intra = kojak_intra.apply(split_kojak_peptide, axis=1)\n",
    "    kojak_inter = kojak_inter.apply(split_kojak_peptide, axis=1)\n",
    "    kojak_intra['ScanNum'] = kojak_intra['scannr']\n",
    "    kojak_inter['ScanNum'] = kojak_inter['scannr']\n",
    "\n",
    "    xolik_intra = pd.read_csv(path_prefix + r'Xolik/{}.csv.intra.filtered.csv'.format(fileindex))\n",
    "    xolik_inter = pd.read_csv(path_prefix + r'Xolik/{}.csv.inter.filtered.csv'.format(fileindex))\n",
    "    xolik_intra = xolik_intra[xolik_intra['qValue'] <= 0.05]\n",
    "    xolik_inter = xolik_inter[xolik_inter['qValue'] <= 0.05]\n",
    "    xolik_intra['LinkSite#1'] = xolik_intra['LinkSite#1'] + 1\n",
    "    xolik_intra['LinkSite#2'] = xolik_intra['LinkSite#2'] + 1\n",
    "    xolik_inter['LinkSite#1'] = xolik_inter['LinkSite#1'] + 1\n",
    "    xolik_inter['LinkSite#2'] = xolik_inter['LinkSite#2'] + 1\n",
    "    xolik_intra['Peptide#1'] = xolik_intra['Peptide#1'].apply(lambda x: x.split('.')[1])\n",
    "    xolik_intra['Peptide#2'] = xolik_intra['Peptide#2'].apply(lambda x: x.split('.')[1])\n",
    "    xolik_inter['Peptide#1'] = xolik_inter['Peptide#1'].apply(lambda x: x.split('.')[1])\n",
    "    xolik_inter['Peptide#2'] = xolik_inter['Peptide#2'].apply(lambda x: x.split('.')[1])\n",
    "\n",
    "    # build dataframes in unified structure\n",
    "    def build_dataframe(data, engine_name, attribute, filename):\n",
    "        df = pd.DataFrame(data[['ScanNum', 'Peptide#1', 'LinkSite#1', 'Peptide#2', 'LinkSite#2', \n",
    "                                'Protein#1', 'Protein#2', 'Score']])\n",
    "        df['Attribute'] = attribute\n",
    "        df.insert(0, 'File', filename)\n",
    "        df.insert(2, 'Engine', engine_name)\n",
    "        return df\n",
    "    \n",
    "    frames.append(build_dataframe(plink_intra, 'pLink', 'intra', fileindex))\n",
    "    frames.append(build_dataframe(plink_inter, 'pLink', 'inter', fileindex))\n",
    "    frames.append(build_dataframe(kojak_intra, 'Kojak', 'intra', fileindex))\n",
    "    frames.append(build_dataframe(kojak_inter, 'Kojak', 'inter', fileindex))\n",
    "    frames.append(build_dataframe(xolik_intra, 'Xolik', 'intra', fileindex))\n",
    "    frames.append(build_dataframe(xolik_inter, 'Xolik', 'inter', fileindex))\n",
    "    \n",
    "records = pd.concat(frames)\n",
    "records = records.reset_index()\n",
    "records = records.drop(['index'], axis=1)\n",
    "\n",
    "def adjust_and_clean(row):\n",
    "    seq1 = row['Peptide#1']\n",
    "    seq2 = row['Peptide#2']\n",
    "    site1 = row['LinkSite#1']\n",
    "    site2 = row['LinkSite#2']\n",
    "    pro1 = row['Protein#1']\n",
    "    pro2 = row['Protein#2']\n",
    "    seq1 = seq1.replace('I', 'L')\n",
    "    seq2 = seq2.replace('I', 'L')\n",
    "    if seq1 > seq2 or (seq1 == seq2 and site1 > site2):\n",
    "        seq1, seq2 = seq2, seq1\n",
    "        site1, site2 = site2, site1\n",
    "        pro1, pro2 = pro2, pro1\n",
    "    pro1 = '|'.join(pro1.split('|')[:2])\n",
    "    pro2 = '|'.join(pro2.split('|')[:2])\n",
    "    row['Peptide#1'] = seq1\n",
    "    row['Peptide#2'] = seq2\n",
    "    row['LinkSite#1'] = site1\n",
    "    row['LinkSite#2'] = site2\n",
    "    row['Protein#1'] = pro1\n",
    "    row['Protein#2'] = pro2\n",
    "    return row\n",
    "\n",
    "records = records.apply(adjust_and_clean, axis=1)"
   ]
  },
  {
   "cell_type": "markdown",
   "metadata": {},
   "source": [
    "## Statistics of Identified Spectra\n",
    "\n",
    "Collect statistics and draw Venn diagram in spectrum level."
   ]
  },
  {
   "cell_type": "code",
   "execution_count": 29,
   "metadata": {
    "collapsed": false
   },
   "outputs": [],
   "source": [
    "def get_flag(subset):  # flag value: 1=plink, 2=kojak, 3=xolik, 4=p+k, 5=p+x, 6=k+x, 7=p+k+x\n",
    "    if len(subset[subset['Engine'] == 'pLink']) > 0:\n",
    "        if len(subset[subset['Engine'] == 'Kojak']) > 0:\n",
    "            return 7 if len(subset[subset['Engine'] == 'Xolik']) > 0 else 4\n",
    "        else:\n",
    "            return 5 if len(subset[subset['Engine'] == 'Xolik']) > 0 else 1\n",
    "    else:\n",
    "        if len(subset[subset['Engine'] == 'Kojak']) > 0:\n",
    "            return 6 if len(subset[subset['Engine'] == 'Xolik']) > 0 else 2\n",
    "        else:\n",
    "            return 3 if len(subset[subset['Engine'] == 'Xolik']) > 0 else 0\n",
    "\n",
    "def draw_venn_diagram(input_dict):\n",
    "    plink_own = len([value for value in input_dict.values() if value == 1])\n",
    "    kojak_own = len([value for value in input_dict.values() if value == 2])\n",
    "    xolik_own = len([value for value in input_dict.values() if value == 3])\n",
    "    pk_overlap = len([value for value in input_dict.values() if value == 4])\n",
    "    px_overlap = len([value for value in input_dict.values() if value == 5])\n",
    "    kx_overlap = len([value for value in input_dict.values() if value == 6])\n",
    "    pkx_overlap = len([value for value in input_dict.values() if value == 7])\n",
    "\n",
    "    # draw Venn diagram\n",
    "    venn3_unweighted(subsets=(plink_own, kojak_own, pk_overlap, xolik_own, px_overlap, kx_overlap, pkx_overlap), \n",
    "                     set_labels=('pLink', 'Kojak', 'Xolik'))\n",
    "\n",
    "def boolean_merge(one, another):\n",
    "    if one > another:\n",
    "        one, another = another, one\n",
    "    if one == 1:\n",
    "        if another in [1, 4, 5, 7]:\n",
    "            return another\n",
    "        elif another == 2:\n",
    "            return 4\n",
    "        elif another == 3:\n",
    "            return 5\n",
    "        elif another == 6:\n",
    "            return 7\n",
    "    elif one == 2:\n",
    "        if another in [2, 4, 6, 7]:\n",
    "            return another\n",
    "        elif another == 3:\n",
    "            return 6\n",
    "        elif another == 5:\n",
    "            return 7\n",
    "    elif one == 3:\n",
    "        return another if another in [3, 5, 6, 7] else 7  # 4\n",
    "    elif one == 4:\n",
    "        return 7 if another in [5, 6, 7] else 4\n",
    "    elif one == 5:\n",
    "        return 5 if another == 5 else 7\n",
    "    elif one == 6:\n",
    "        return 6 if another == 6 else 7\n",
    "    else:\n",
    "        return 7"
   ]
  },
  {
   "cell_type": "code",
   "execution_count": 30,
   "metadata": {
    "collapsed": false
   },
   "outputs": [
    {
     "data": {
      "image/png": "[encoded data removed]",
      "text/plain": [
       "<matplotlib.figure.Figure at 0xa6b8198>"
      ]
     },
     "metadata": {},
     "output_type": "display_data"
    }
   ],
   "source": [
    "spectra_dict = dict()  # index by file+scan_num\n",
    "for fileindex in records['File'].unique():\n",
    "    file_subset = records[records['File'] == fileindex]\n",
    "    for scan_num in file_subset['ScanNum'].unique():\n",
    "        subset = file_subset[file_subset['ScanNum'] == scan_num]\n",
    "        flag = get_flag(subset)\n",
    "        spectra_dict[fileindex+'-'+str(scan_num)] = flag\n",
    "\n",
    "draw_venn_diagram(spectra_dict)"
   ]
  },
  {
   "cell_type": "markdown",
   "metadata": {},
   "source": [
    "## Statistics of Peptide-Spectral Matches\n",
    "\n",
    "Collect statistics at PSM level."
   ]
  },
  {
   "cell_type": "code",
   "execution_count": 31,
   "metadata": {
    "collapsed": false
   },
   "outputs": [
    {
     "data": {
      "image/png": "[encoded data removed]",
      "text/plain": [
       "<matplotlib.figure.Figure at 0xa6b8438>"
      ]
     },
     "metadata": {},
     "output_type": "display_data"
    }
   ],
   "source": [
    "psm_dict = dict()  # index by file+scan_num\n",
    "for fileindex in records['File'].unique():\n",
    "    file_subset = records[records['File'] == fileindex]\n",
    "    for scan_num in file_subset['ScanNum'].unique():\n",
    "        scan_subset = file_subset[file_subset['ScanNum'] == scan_num]\n",
    "        for p1 in scan_subset['Peptide#1'].unique():\n",
    "            p1_subset = scan_subset[scan_subset['Peptide#1'] == p1]\n",
    "            for p2 in p1_subset['Peptide#2'].unique():\n",
    "                p2_subset = p1_subset[p1_subset['Peptide#2'] == p2]\n",
    "                flag = get_flag(p2_subset)\n",
    "                psm_dict[fileindex+'-'+str(scan_num)+'-'+p1+'-'+p2] = flag\n",
    "\n",
    "draw_venn_diagram(psm_dict)\n",
    "#plt.savefig('venn_psm.eps', format='eps')"
   ]
  },
  {
   "cell_type": "markdown",
   "metadata": {
    "collapsed": true
   },
   "source": [
    "## Statistics of Peptide-Spectral Matches + Link Sites"
   ]
  },
  {
   "cell_type": "code",
   "execution_count": 32,
   "metadata": {
    "collapsed": false
   },
   "outputs": [
    {
     "data": {
      "image/png": "[encoded data removed]",
      "text/plain": [
       "<matplotlib.figure.Figure at 0x9e16518>"
      ]
     },
     "metadata": {},
     "output_type": "display_data"
    }
   ],
   "source": [
    "psm_site_dict = dict()  # index by file+scan_num\n",
    "for fileindex in records['File'].unique():\n",
    "    file_subset = records[records['File'] == fileindex]\n",
    "    for scan_num in file_subset['ScanNum'].unique():\n",
    "        scan_subset = file_subset[file_subset['ScanNum'] == scan_num]\n",
    "        for p1 in scan_subset['Peptide#1'].unique():\n",
    "            p1_subset = scan_subset[scan_subset['Peptide#1'] == p1]\n",
    "            for p2 in p1_subset['Peptide#2'].unique():\n",
    "                p2_subset = p1_subset[p1_subset['Peptide#2'] == p2]\n",
    "                for l1 in p2_subset['LinkSite#1'].unique():\n",
    "                    l1_subset = p2_subset[p2_subset['LinkSite#1'] == l1]\n",
    "                    for l2 in l1_subset['LinkSite#2'].unique():\n",
    "                        l2_subset = l1_subset[l1_subset['LinkSite#2'] == l2]\n",
    "                        flag = get_flag(l2_subset)\n",
    "                        psm_site_dict[fileindex+'-'+str(scan_num)+'-'+p1+'-'+p2+'-'+str(l1)+'-'+str(l2)] = flag\n",
    "\n",
    "draw_venn_diagram(psm_site_dict)"
   ]
  },
  {
   "cell_type": "markdown",
   "metadata": {},
   "source": [
    "## Statistics of Identified Peptides + Link Sites"
   ]
  },
  {
   "cell_type": "code",
   "execution_count": 33,
   "metadata": {
    "collapsed": false
   },
   "outputs": [
    {
     "data": {
      "image/png": "[encoded data removed]",
      "text/plain": [
       "<matplotlib.figure.Figure at 0xa68c7b8>"
      ]
     },
     "metadata": {},
     "output_type": "display_data"
    }
   ],
   "source": [
    "peptide_site_dict = dict()  # index by file+scan_num\n",
    "for p1 in records['Peptide#1'].unique():\n",
    "    p1_subset = records[records['Peptide#1'] == p1]\n",
    "    for p2 in p1_subset['Peptide#2'].unique():\n",
    "        p2_subset = p1_subset[p1_subset['Peptide#2'] == p2]\n",
    "        for l1 in p2_subset['LinkSite#1'].unique():\n",
    "            l1_subset = p2_subset[p2_subset['LinkSite#1'] == l1]\n",
    "            for l2 in l1_subset['LinkSite#2'].unique():\n",
    "                l2_subset = l1_subset[l1_subset['LinkSite#2'] == l2]\n",
    "                flag = get_flag(l2_subset)\n",
    "                entry = p1+'-'+p2+'-'+str(l1)+'-'+str(l2)\n",
    "                if entry in peptide_site_dict:\n",
    "                    previous = peptide_site_dict[entry]\n",
    "                    new_flag = boolean_merge(previous, flag)\n",
    "                    peptide_site_dict[entry] = new_flag\n",
    "                else:\n",
    "                    peptide_site_dict[p1+'-'+p2+'-'+str(l1)+'-'+str(l2)] = flag\n",
    "\n",
    "draw_venn_diagram(peptide_site_dict)\n",
    "#plt.savefig('venn_ps.eps', format='eps')"
   ]
  },
  {
   "cell_type": "markdown",
   "metadata": {},
   "source": [
    "## Statistics of Identified Peptides"
   ]
  },
  {
   "cell_type": "code",
   "execution_count": 34,
   "metadata": {
    "collapsed": false
   },
   "outputs": [
    {
     "data": {
      "image/png": "[encoded data removed]",
      "text/plain": [
       "<matplotlib.figure.Figure at 0xa118518>"
      ]
     },
     "metadata": {},
     "output_type": "display_data"
    }
   ],
   "source": [
    "peptide_dict = dict()  # index by file+scan_num\n",
    "for p1 in records['Peptide#1'].unique():\n",
    "    p1_subset = records[records['Peptide#1'] == p1]\n",
    "    for p2 in p1_subset['Peptide#2'].unique():\n",
    "        p2_subset = p1_subset[p1_subset['Peptide#2'] == p2]\n",
    "        flag = get_flag(p2_subset)\n",
    "        entry = p1+'-'+p2\n",
    "        if entry in peptide_dict:\n",
    "            new_flag = boolean_merge(peptide_dict[entry], flag)\n",
    "            peptide_dict[entry] = new_flag\n",
    "        else:\n",
    "            peptide_dict[p1+'-'+p2] = flag\n",
    "\n",
    "draw_venn_diagram(peptide_dict)\n",
    "#plt.savefig('venn_p.eps', format='eps')"
   ]
  },
  {
   "cell_type": "markdown",
   "metadata": {
    "collapsed": true
   },
   "source": [
    "## Playground"
   ]
  },
  {
   "cell_type": "code",
   "execution_count": 35,
   "metadata": {
    "collapsed": false
   },
   "outputs": [],
   "source": [
    "frames = []\n",
    "for p1 in records['Peptide#1'].unique():\n",
    "    p1_subset = records[records['Peptide#1'] == p1]\n",
    "    for p2 in p1_subset['Peptide#2'].unique():\n",
    "        p2_subset = p1_subset[p1_subset['Peptide#2'] == p2]\n",
    "        for l1 in p2_subset['LinkSite#1'].unique():\n",
    "            l1_subset = p2_subset[p2_subset['LinkSite#1'] == l1]\n",
    "            for l2 in l1_subset['LinkSite#2'].unique():\n",
    "                l2_subset = l1_subset[l1_subset['LinkSite#2'] == l2]\n",
    "                flag = get_flag(l2_subset)\n",
    "                if flag == 3:\n",
    "                    frames.append(l2_subset)\n",
    "                    \n",
    "xolik_unique_ps = pd.concat(frames)"
   ]
  },
  {
   "cell_type": "code",
   "execution_count": 36,
   "metadata": {
    "collapsed": false
   },
   "outputs": [
    {
     "data": {
      "text/html": [
       "<div>\n",
       "<table border=\"1\" class=\"dataframe\">\n",
       "  <thead>\n",
       "    <tr style=\"text-align: right;\">\n",
       "      <th></th>\n",
       "      <th>File</th>\n",
       "      <th>ScanNum</th>\n",
       "      <th>Engine</th>\n",
       "      <th>Peptide#1</th>\n",
       "      <th>LinkSite#1</th>\n",
       "      <th>Peptide#2</th>\n",
       "      <th>LinkSite#2</th>\n",
       "      <th>Protein#1</th>\n",
       "      <th>Protein#2</th>\n",
       "      <th>Score</th>\n",
       "      <th>Attribute</th>\n",
       "    </tr>\n",
       "  </thead>\n",
       "  <tbody>\n",
       "    <tr>\n",
       "      <th>558</th>\n",
       "      <td>007</td>\n",
       "      <td>5277</td>\n",
       "      <td>Xolik</td>\n",
       "      <td>GLDLKSLAEK</td>\n",
       "      <td>10</td>\n",
       "      <td>LELKEGNYGDGYALQPSYLHEYLSK</td>\n",
       "      <td>4</td>\n",
       "      <td>sp|P41836</td>\n",
       "      <td>sp|Q9USQ9</td>\n",
       "      <td>4.08187</td>\n",
       "      <td>inter</td>\n",
       "    </tr>\n",
       "  </tbody>\n",
       "</table>\n",
       "</div>"
      ],
      "text/plain": [
       "    File  ScanNum Engine   Peptide#1  LinkSite#1                  Peptide#2  \\\n",
       "558  007     5277  Xolik  GLDLKSLAEK          10  LELKEGNYGDGYALQPSYLHEYLSK   \n",
       "\n",
       "     LinkSite#2  Protein#1  Protein#2    Score Attribute  \n",
       "558           4  sp|P41836  sp|Q9USQ9  4.08187     inter  "
      ]
     },
     "execution_count": 36,
     "metadata": {},
     "output_type": "execute_result"
    }
   ],
   "source": [
    "xolik_unique_ps[xolik_unique_ps['Attribute'] == 'inter']"
   ]
  },
  {
   "cell_type": "code",
   "execution_count": 37,
   "metadata": {
    "collapsed": false
   },
   "outputs": [
    {
     "data": {
      "text/html": [
       "<div>\n",
       "<table border=\"1\" class=\"dataframe\">\n",
       "  <thead>\n",
       "    <tr style=\"text-align: right;\">\n",
       "      <th></th>\n",
       "      <th>ScanNum</th>\n",
       "      <th>Score</th>\n",
       "      <th>Peptide#1</th>\n",
       "      <th>LinkSite#1</th>\n",
       "      <th>Protein#1</th>\n",
       "      <th>Score#1</th>\n",
       "      <th>Peptide#2</th>\n",
       "      <th>LinkSite#2</th>\n",
       "      <th>Protein#2</th>\n",
       "      <th>Score#2</th>\n",
       "      <th>qValue</th>\n",
       "    </tr>\n",
       "  </thead>\n",
       "  <tbody>\n",
       "  </tbody>\n",
       "</table>\n",
       "</div>"
      ],
      "text/plain": [
       "Empty DataFrame\n",
       "Columns: [ScanNum, Score, Peptide#1, LinkSite#1, Protein#1, Score#1, Peptide#2, LinkSite#2, Protein#2, Score#2, qValue]\n",
       "Index: []"
      ]
     },
     "execution_count": 37,
     "metadata": {},
     "output_type": "execute_result"
    }
   ],
   "source": [
    "fileindex = '006'\n",
    "xolik_intra = pd.read_csv(path_prefix + r'Xolik/{}.csv.intra.filtered.csv'.format(fileindex))\n",
    "xolik_inter = pd.read_csv(path_prefix + r'Xolik/{}.csv.inter.filtered.csv'.format(fileindex))\n",
    "xolik_intra = xolik_intra[xolik_intra['qValue'] <= 0.05]\n",
    "xolik_inter = xolik_inter[xolik_inter['qValue'] <= 0.05]\n",
    "\n",
    "xolik_inter[xolik_inter['ScanNum'].isin(xolik_unique_ps['ScanNum'])]"
   ]
  },
  {
   "cell_type": "code",
   "execution_count": 38,
   "metadata": {
    "collapsed": true
   },
   "outputs": [],
   "source": [
    "xolik_unique_raw = xolik_inter[xolik_inter['ScanNum'].isin(xolik_unique_ps['ScanNum'])]"
   ]
  },
  {
   "cell_type": "code",
   "execution_count": 39,
   "metadata": {
    "collapsed": false
   },
   "outputs": [
    {
     "data": {
      "text/plain": [
       "0"
      ]
     },
     "execution_count": 39,
     "metadata": {},
     "output_type": "execute_result"
    }
   ],
   "source": [
    "scores = pd.concat([xolik_unique_raw['Score#1'], xolik_unique_raw['Score#2']])\n",
    "len(scores[scores < 0.2])"
   ]
  },
  {
   "cell_type": "code",
   "execution_count": null,
   "metadata": {
    "collapsed": true
   },
   "outputs": [],
   "source": []
  }
 ],
 "metadata": {
  "kernelspec": {
   "display_name": "Python 2",
   "language": "python",
   "name": "python2"
  },
  "language_info": {
   "codemirror_mode": {
    "name": "ipython",
    "version": 2
   },
   "file_extension": ".py",
   "mimetype": "text/x-python",
   "name": "python",
   "nbconvert_exporter": "python",
   "pygments_lexer": "ipython2",
   "version": "2.7.13"
  }
 },
 "nbformat": 4,
 "nbformat_minor": 0
}
